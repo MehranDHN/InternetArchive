{
  "nbformat": 4,
  "nbformat_minor": 0,
  "metadata": {
    "colab": {
      "provenance": [],
      "authorship_tag": "ABX9TyNvvBVbXo6TlUWQDmFZL4tB",
      "include_colab_link": true
    },
    "kernelspec": {
      "name": "python3",
      "display_name": "Python 3"
    },
    "language_info": {
      "name": "python"
    }
  },
  "cells": [
    {
      "cell_type": "markdown",
      "metadata": {
        "id": "view-in-github",
        "colab_type": "text"
      },
      "source": [
        "<a href=\"https://colab.research.google.com/github/MehranDHN/InternetArchive/blob/main/Untitled1.ipynb\" target=\"_parent\"><img src=\"https://colab.research.google.com/assets/colab-badge.svg\" alt=\"Open In Colab\"/></a>"
      ]
    },
    {
      "cell_type": "markdown",
      "source": [
        "IIIF Presentation API Lab based on **prezi3**"
      ],
      "metadata": {
        "id": "45vZ9SRKmF1k"
      }
    },
    {
      "cell_type": "code",
      "execution_count": null,
      "metadata": {
        "id": "DQ2vSpjdmybN",
        "colab": {
          "base_uri": "https://localhost:8080/"
        },
        "outputId": "1dc31f3f-4649-40e4-b02e-88bf82488cd8"
      },
      "outputs": [
        {
          "output_type": "stream",
          "name": "stdout",
          "text": [
            "Requirement already satisfied: iiif-prezi3 in /usr/local/lib/python3.10/dist-packages (1.2.1)\n",
            "Requirement already satisfied: pydantic<2.0.0,>=1.9.2 in /usr/local/lib/python3.10/dist-packages (from iiif-prezi3) (1.10.14)\n",
            "Requirement already satisfied: requests<3.0.0,>=2.28.0 in /usr/local/lib/python3.10/dist-packages (from iiif-prezi3) (2.31.0)\n",
            "Requirement already satisfied: Pillow<10.0.0,>=9.1.1 in /usr/local/lib/python3.10/dist-packages (from iiif-prezi3) (9.4.0)\n",
            "Requirement already satisfied: typing-extensions>=4.2.0 in /usr/local/lib/python3.10/dist-packages (from pydantic<2.0.0,>=1.9.2->iiif-prezi3) (4.10.0)\n",
            "Requirement already satisfied: charset-normalizer<4,>=2 in /usr/local/lib/python3.10/dist-packages (from requests<3.0.0,>=2.28.0->iiif-prezi3) (3.3.2)\n",
            "Requirement already satisfied: idna<4,>=2.5 in /usr/local/lib/python3.10/dist-packages (from requests<3.0.0,>=2.28.0->iiif-prezi3) (3.6)\n",
            "Requirement already satisfied: urllib3<3,>=1.21.1 in /usr/local/lib/python3.10/dist-packages (from requests<3.0.0,>=2.28.0->iiif-prezi3) (2.0.7)\n",
            "Requirement already satisfied: certifi>=2017.4.17 in /usr/local/lib/python3.10/dist-packages (from requests<3.0.0,>=2.28.0->iiif-prezi3) (2024.2.2)\n"
          ]
        }
      ],
      "source": [
        "!pip install iiif-prezi3"
      ]
    },
    {
      "cell_type": "code",
      "source": [
        "from iiif_prezi3 import (Annotation, AnnotationCollection, AnnotationPage,\n",
        "                         Canvas, Collection, Manifest, Range, ResourceItem,\n",
        "                         ServiceItem, ServiceItem1)\n",
        "import json\n",
        "from google.colab import files\n",
        "\n",
        "#uploaded = files.upload()\n",
        "#data = next(iter(uploaded.values()))\n",
        "#manifest_json = json.loads(data.decode())\n",
        "\n",
        "originalID = 'http://iiif.example.org/TESTORIGINAL'\n",
        "changedID = 'http://iiif.example.org/TESTCHANGED'\n",
        "#On the fly manifest\n",
        "m = Manifest(id=\"https://example.com/iiif/manifest.json\", label={\"en\":[\"Example Manifest\"]})\n",
        "\n",
        "#m2 = Manifest.parse_raw(uploaded.)\n",
        "#manifest_json = json.load(open(\"videoManifest.json\"))\n",
        "#print(manifest_json)\n",
        "#m2 = Manifest(**manifest_json)\n",
        "#print(m2.json(indent=2))\n",
        "#print(\"On The Fly Manifest:\")\n",
        "# Some orphaned canvases\n",
        "acanvas = Canvas(id='http://iiif.example.org/prezi/Manifest/0/canvas/01', type='Canvas', label={'en': ['default label']})\n",
        "asecondcanvas = Canvas(id=originalID, type='Canvas', label={'en': ['second label']})\n",
        "\n",
        "label = {\"en\": [\"label\"]}\n",
        "value = {\"en\": [\"title\"], \"fa\": [\"عنوان\"]}\n",
        "m.add_metadata(label, value)\n",
        "canvas = m.make_canvas(label={'en': ['Canvas label']})\n",
        "# Adding dummy canvases as manifest's items\n",
        "m.items = [acanvas, asecondcanvas, canvas]\n",
        "# It's possible to change the id of the first canvas\n",
        "# even after adding it to a manifest\n",
        "acanvas.id = changedID\n",
        "# Adding Range as TOC\n",
        "range = Range(type=\"Range\")\n",
        "m.add_range(range)\n",
        "\n",
        "print(m.json(indent=1))"
      ],
      "metadata": {
        "colab": {
          "base_uri": "https://localhost:8080/"
        },
        "id": "hke9L_yGoMOv",
        "outputId": "dbb04acc-d7f4-45c3-ac4d-fbfaa3fd173c"
      },
      "execution_count": null,
      "outputs": [
        {
          "output_type": "stream",
          "name": "stdout",
          "text": [
            "{\n",
            " \"@context\": \"http://iiif.io/api/presentation/3/context.json\",\n",
            " \"id\": \"https://example.com/iiif/manifest.json\",\n",
            " \"type\": \"Manifest\",\n",
            " \"label\": {\n",
            "  \"en\": [\n",
            "   \"Example Manifest\"\n",
            "  ]\n",
            " },\n",
            " \"metadata\": [\n",
            "  {\n",
            "   \"label\": {\n",
            "    \"en\": [\n",
            "     \"label\"\n",
            "    ]\n",
            "   },\n",
            "   \"value\": {\n",
            "    \"en\": [\n",
            "     \"title\"\n",
            "    ],\n",
            "    \"fa\": [\n",
            "     \"عنوان\"\n",
            "    ]\n",
            "   }\n",
            "  }\n",
            " ],\n",
            " \"items\": [\n",
            "  {\n",
            "   \"id\": \"http://iiif.example.org/TESTCHANGED\",\n",
            "   \"type\": \"Canvas\",\n",
            "   \"label\": {\n",
            "    \"en\": [\n",
            "     \"default label\"\n",
            "    ]\n",
            "   },\n",
            "   \"items\": []\n",
            "  },\n",
            "  {\n",
            "   \"id\": \"http://iiif.example.org/TESTORIGINAL\",\n",
            "   \"type\": \"Canvas\",\n",
            "   \"label\": {\n",
            "    \"en\": [\n",
            "     \"second label\"\n",
            "    ]\n",
            "   },\n",
            "   \"items\": []\n",
            "  },\n",
            "  {\n",
            "   \"id\": \"http://example.org/iiif/1\",\n",
            "   \"type\": \"Canvas\",\n",
            "   \"label\": {\n",
            "    \"en\": [\n",
            "     \"Canvas label\"\n",
            "    ]\n",
            "   },\n",
            "   \"items\": []\n",
            "  }\n",
            " ],\n",
            " \"structures\": [\n",
            "  {\n",
            "   \"id\": \"http://example.org/iiif/2\",\n",
            "   \"type\": \"Range\",\n",
            "   \"items\": []\n",
            "  }\n",
            " ]\n",
            "}\n"
          ]
        }
      ]
    },
    {
      "cell_type": "markdown",
      "source": [
        "# A manifest with 3 canvases.\n",
        "## The first one has a static image as an annotation with painting motivation(not from IIIF Image Service) ⏬\n",
        "\n",
        "\n",
        "\n"
      ],
      "metadata": {
        "id": "FGZeX3Qcpksk"
      }
    },
    {
      "cell_type": "code",
      "source": [
        "from iiif_prezi3 import Manifest, config\n",
        "\n",
        "config.configs['helpers.auto_fields.AutoLang'].auto_lang = \"en\"\n",
        "\n",
        "manifest = Manifest(id=\"https://iiif.io/api/cookbook/recipe/0001-mvm-image/manifest.json\", label=\"Static Image Example\")\n",
        "\n",
        "label = {\"en\": [\"label\"]}\n",
        "value = {\"en\": [\"title\"], \"fa\": [\"عنوان\"]}\n",
        "manifest.add_metadata(label, value)\n",
        "canvas1 = manifest.make_canvas(label={'en': ['Canvas1 label']})\n",
        "canvas2 = manifest.make_canvas(label={'en': ['Canvas2 label']})\n",
        "canvas3 = manifest.make_canvas(id=\"https://iiif.io/api/cookbook/recipe/0001-mvm-image/canvas/p1\",\n",
        "                              height=1800,\n",
        "                              width=1200,\n",
        "                              label={'en': ['Canvas3 label']})\n",
        "c1label = {\"en\": [\"tags\"]}\n",
        "c1value = {\"en\": [\"first\",\"second\",\"third\"]}\n",
        "canvas1.add_metadata(c1label, c1value)\n",
        "\n",
        "anno_page = canvas1.add_image(image_url=\"http://iiif.io/api/presentation/2.1/example/fixtures/resources/page1-full.png\",\n",
        "                             anno_page_id=\"https://iiif.io/api/cookbook/recipe/0001-mvm-image/page/p1/1\",\n",
        "                             anno_id=\"https://iiif.io/api/cookbook/recipe/0001-mvm-image/annotation/p0001-image\",\n",
        "                             format=\"image/png\",\n",
        "                             height=1800,\n",
        "                             width=1200\n",
        "                             )\n",
        "\n",
        "print(len(manifest.items))\n",
        "print(manifest.json(indent=2))"
      ],
      "metadata": {
        "colab": {
          "base_uri": "https://localhost:8080/"
        },
        "id": "migXJkGYocLF",
        "outputId": "8d7b9449-f8b4-463a-b278-ee36273aadff"
      },
      "execution_count": null,
      "outputs": [
        {
          "output_type": "stream",
          "name": "stdout",
          "text": [
            "3\n",
            "{\n",
            "  \"@context\": \"http://iiif.io/api/presentation/3/context.json\",\n",
            "  \"id\": \"https://iiif.io/api/cookbook/recipe/0001-mvm-image/manifest.json\",\n",
            "  \"type\": \"Manifest\",\n",
            "  \"label\": {\n",
            "    \"en\": [\n",
            "      \"Static Image Example\"\n",
            "    ]\n",
            "  },\n",
            "  \"metadata\": [\n",
            "    {\n",
            "      \"label\": {\n",
            "        \"en\": [\n",
            "          \"label\"\n",
            "        ]\n",
            "      },\n",
            "      \"value\": {\n",
            "        \"en\": [\n",
            "          \"title\"\n",
            "        ],\n",
            "        \"fa\": [\n",
            "          \"عنوان\"\n",
            "        ]\n",
            "      }\n",
            "    }\n",
            "  ],\n",
            "  \"items\": [\n",
            "    {\n",
            "      \"id\": \"http://example.org/iiif/1\",\n",
            "      \"type\": \"Canvas\",\n",
            "      \"label\": {\n",
            "        \"en\": [\n",
            "          \"Canvas1 label\"\n",
            "        ]\n",
            "      },\n",
            "      \"metadata\": [\n",
            "        {\n",
            "          \"label\": {\n",
            "            \"en\": [\n",
            "              \"tags\"\n",
            "            ]\n",
            "          },\n",
            "          \"value\": {\n",
            "            \"en\": [\n",
            "              \"first\",\n",
            "              \"second\",\n",
            "              \"third\"\n",
            "            ]\n",
            "          }\n",
            "        }\n",
            "      ],\n",
            "      \"items\": [\n",
            "        {\n",
            "          \"id\": \"https://iiif.io/api/cookbook/recipe/0001-mvm-image/page/p1/1\",\n",
            "          \"type\": \"AnnotationPage\",\n",
            "          \"items\": [\n",
            "            {\n",
            "              \"id\": \"https://iiif.io/api/cookbook/recipe/0001-mvm-image/annotation/p0001-image\",\n",
            "              \"type\": \"Annotation\",\n",
            "              \"motivation\": \"painting\",\n",
            "              \"body\": {\n",
            "                \"id\": \"http://iiif.io/api/presentation/2.1/example/fixtures/resources/page1-full.png\",\n",
            "                \"type\": \"Image\",\n",
            "                \"height\": 1800,\n",
            "                \"width\": 1200,\n",
            "                \"format\": \"image/png\"\n",
            "              },\n",
            "              \"target\": \"http://example.org/iiif/1\"\n",
            "            }\n",
            "          ]\n",
            "        }\n",
            "      ]\n",
            "    },\n",
            "    {\n",
            "      \"id\": \"http://example.org/iiif/2\",\n",
            "      \"type\": \"Canvas\",\n",
            "      \"label\": {\n",
            "        \"en\": [\n",
            "          \"Canvas2 label\"\n",
            "        ]\n",
            "      },\n",
            "      \"items\": []\n",
            "    },\n",
            "    {\n",
            "      \"id\": \"https://iiif.io/api/cookbook/recipe/0001-mvm-image/canvas/p1\",\n",
            "      \"type\": \"Canvas\",\n",
            "      \"label\": {\n",
            "        \"en\": [\n",
            "          \"Canvas3 label\"\n",
            "        ]\n",
            "      },\n",
            "      \"height\": 1800,\n",
            "      \"width\": 1200,\n",
            "      \"items\": []\n",
            "    }\n",
            "  ]\n",
            "}\n"
          ]
        }
      ]
    },
    {
      "cell_type": "code",
      "source": [
        "# prompt: Create simple IIIF Manifest\n",
        "!pip install iiif-presentation-python\n",
        "from iiif_presentation_python.manifest import Manifest\n",
        "from iiif_presentation_python.canvas import Canvas\n",
        "from iiif_presentation_python.annotation import Annotation\n",
        "from iiif_presentation_python.resource import ResourceItem\n",
        "# Simple IIIF Manifest\n",
        "manifest = Manifest(id=\"https://example.com/iiif/manifest\", label=\"My Simple Manifest\")\n",
        "\n",
        "# Add a canvas to the manifest\n",
        "canvas = Canvas(id=\"https://example.com/iiif/canvas/1\", label=\"My Canvas\")\n",
        "manifest.items.append(canvas)\n",
        "\n",
        "# Add an annotation to the canvas\n",
        "annotation = Annotation(id=\"https://example.com/iiif/annotation/1\", motivation=\"painting\", on=\"https://example.com/iiif/canvas/1\")\n",
        "canvas.annotations.append(annotation)\n",
        "\n",
        "# Add a resource to the annotation\n",
        "resource = ResourceItem(id=\"https://example.com/iiif/resource/1\", type=\"image/jpeg\", format=\"image/jpeg\", service=ServiceItem(id=\"https://example.com/iiif/service/1\"))\n",
        "annotation.resources.append(resource)\n",
        "\n",
        "# Print the manifest as JSON-LD\n",
        "print(manifest.json(indent=2))\n"
      ],
      "metadata": {
        "id": "hpWaZsqwszqO",
        "colab": {
          "base_uri": "https://localhost:8080/",
          "height": 429
        },
        "outputId": "05bae726-a690-4aa6-d30f-d1f4adcf6e2c"
      },
      "execution_count": null,
      "outputs": [
        {
          "output_type": "stream",
          "name": "stdout",
          "text": [
            "\u001b[31mERROR: Could not find a version that satisfies the requirement iiif-presentation-python (from versions: none)\u001b[0m\u001b[31m\n",
            "\u001b[0m\u001b[31mERROR: No matching distribution found for iiif-presentation-python\u001b[0m\u001b[31m\n",
            "\u001b[0m"
          ]
        },
        {
          "output_type": "error",
          "ename": "ModuleNotFoundError",
          "evalue": "No module named 'iiif_presentation_python'",
          "traceback": [
            "\u001b[0;31m---------------------------------------------------------------------------\u001b[0m",
            "\u001b[0;31mModuleNotFoundError\u001b[0m                       Traceback (most recent call last)",
            "\u001b[0;32m<ipython-input-3-5f029d79ade6>\u001b[0m in \u001b[0;36m<cell line: 3>\u001b[0;34m()\u001b[0m\n\u001b[1;32m      1\u001b[0m \u001b[0;31m# prompt: Create simple IIIF Manifest\u001b[0m\u001b[0;34m\u001b[0m\u001b[0;34m\u001b[0m\u001b[0m\n\u001b[1;32m      2\u001b[0m \u001b[0mget_ipython\u001b[0m\u001b[0;34m(\u001b[0m\u001b[0;34m)\u001b[0m\u001b[0;34m.\u001b[0m\u001b[0msystem\u001b[0m\u001b[0;34m(\u001b[0m\u001b[0;34m'pip install iiif-presentation-python'\u001b[0m\u001b[0;34m)\u001b[0m\u001b[0;34m\u001b[0m\u001b[0;34m\u001b[0m\u001b[0m\n\u001b[0;32m----> 3\u001b[0;31m \u001b[0;32mfrom\u001b[0m \u001b[0miiif_presentation_python\u001b[0m\u001b[0;34m.\u001b[0m\u001b[0mmanifest\u001b[0m \u001b[0;32mimport\u001b[0m \u001b[0mManifest\u001b[0m\u001b[0;34m\u001b[0m\u001b[0;34m\u001b[0m\u001b[0m\n\u001b[0m\u001b[1;32m      4\u001b[0m \u001b[0;32mfrom\u001b[0m \u001b[0miiif_presentation_python\u001b[0m\u001b[0;34m.\u001b[0m\u001b[0mcanvas\u001b[0m \u001b[0;32mimport\u001b[0m \u001b[0mCanvas\u001b[0m\u001b[0;34m\u001b[0m\u001b[0;34m\u001b[0m\u001b[0m\n\u001b[1;32m      5\u001b[0m \u001b[0;32mfrom\u001b[0m \u001b[0miiif_presentation_python\u001b[0m\u001b[0;34m.\u001b[0m\u001b[0mannotation\u001b[0m \u001b[0;32mimport\u001b[0m \u001b[0mAnnotation\u001b[0m\u001b[0;34m\u001b[0m\u001b[0;34m\u001b[0m\u001b[0m\n",
            "\u001b[0;31mModuleNotFoundError\u001b[0m: No module named 'iiif_presentation_python'",
            "",
            "\u001b[0;31m---------------------------------------------------------------------------\u001b[0;32m\nNOTE: If your import is failing due to a missing package, you can\nmanually install dependencies using either !pip or !apt.\n\nTo view examples of installing some common dependencies, click the\n\"Open Examples\" button below.\n\u001b[0;31m---------------------------------------------------------------------------\u001b[0m\n"
          ],
          "errorDetails": {
            "actions": [
              {
                "action": "open_url",
                "actionText": "Open Examples",
                "url": "/notebooks/snippets/importing_libraries.ipynb"
              }
            ]
          }
        }
      ]
    },
    {
      "cell_type": "code",
      "source": [
        "# prompt: code snippet to edit metadata of an item in internet archive using internetarchive official library\n",
        "\n",
        "from internetarchive import (\n",
        "    create_item,\n",
        "    edit_metadata,\n",
        "    get_item,\n",
        "    item_search,\n",
        "    search,\n",
        ")\n",
        "\n",
        "# Create a new item on the Internet Archive\n",
        "new_item = create_item(\n",
        "    identifier=\"my_new_item\",\n",
        "    title=\"My New Item\",\n",
        "    description=\"This is my new item.\",\n",
        "    files=[{\"name\": \"my_file.txt\", \"data\": \"Hello, world!\"}],\n",
        ")\n",
        "\n",
        "# Edit the metadata of an existing item\n",
        "edit_metadata(\n",
        "    identifier=\"my_existing_item\",\n",
        "    metadata={\"title\": \"My Updated Item\", \"description\": \"This is my updated item.\"}\n",
        ")\n",
        "\n",
        "# Get information about an item\n",
        "item = get_item(\"my_item\")\n",
        "\n",
        "# Search for items in the Internet Archive\n",
        "results = item_search(query=\"my_query\")\n",
        "\n",
        "# Search for all items in the Internet Archive\n",
        "results = search(query=\"*\")\n",
        "results = edit_metadata(\n",
        "    identifier=\"my_existing_item\",\n",
        "    metadata={\"title\": \"My Updated Item\", \"description\": \"This is my updated item.\"}\n",
        ")\n"
      ],
      "metadata": {
        "id": "d_Ka58ISNQUZ"
      },
      "execution_count": null,
      "outputs": []
    },
    {
      "cell_type": "code",
      "source": [
        "ls"
      ],
      "metadata": {
        "colab": {
          "base_uri": "https://localhost:8080/"
        },
        "id": "k0ahn7K2BJG5",
        "outputId": "bca24647-f163-4596-b567-963a757b6744"
      },
      "execution_count": 5,
      "outputs": [
        {
          "output_type": "stream",
          "name": "stdout",
          "text": [
            "\u001b[0m\u001b[01;34msample_data\u001b[0m/\n"
          ]
        }
      ]
    }
  ]
}