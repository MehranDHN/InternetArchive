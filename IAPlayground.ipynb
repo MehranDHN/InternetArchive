{
  "cells": [
    {
      "cell_type": "markdown",
      "metadata": {
        "id": "view-in-github",
        "colab_type": "text"
      },
      "source": [
        "<a href=\"https://colab.research.google.com/github/MehranDHN/InternetArchive/blob/main/IAPlayground.ipynb\" target=\"_parent\"><img src=\"https://colab.research.google.com/assets/colab-badge.svg\" alt=\"Open In Colab\"/></a>"
      ]
    },
    {
      "cell_type": "code",
      "execution_count": 1,
      "metadata": {
        "colab": {
          "base_uri": "https://localhost:8080/"
        },
        "id": "f6uoF0XGg_5j",
        "outputId": "3757bb51-372d-4d54-f012-833bdf82eb41"
      },
      "outputs": [
        {
          "output_type": "stream",
          "name": "stdout",
          "text": [
            "Collecting internetarchive\n",
            "  Downloading internetarchive-4.1.0-py3-none-any.whl (97 kB)\n",
            "\u001b[2K     \u001b[90m━━━━━━━━━━━━━━━━━━━━━━━━━━━━━━━━━━━━━━━━\u001b[0m \u001b[32m97.5/97.5 kB\u001b[0m \u001b[31m2.0 MB/s\u001b[0m eta \u001b[36m0:00:00\u001b[0m\n",
            "\u001b[?25hCollecting docopt<0.7.0,>=0.6.0 (from internetarchive)\n",
            "  Downloading docopt-0.6.2.tar.gz (25 kB)\n",
            "  Preparing metadata (setup.py) ... \u001b[?25l\u001b[?25hdone\n",
            "Collecting jsonpatch>=0.4 (from internetarchive)\n",
            "  Downloading jsonpatch-1.33-py2.py3-none-any.whl (12 kB)\n",
            "Requirement already satisfied: requests<3.0.0,>=2.25.0 in /usr/local/lib/python3.10/dist-packages (from internetarchive) (2.31.0)\n",
            "Collecting schema>=0.4.0 (from internetarchive)\n",
            "  Downloading schema-0.7.7-py2.py3-none-any.whl (18 kB)\n",
            "Requirement already satisfied: tqdm>=4.0.0 in /usr/local/lib/python3.10/dist-packages (from internetarchive) (4.66.4)\n",
            "Requirement already satisfied: urllib3>=1.26.0 in /usr/local/lib/python3.10/dist-packages (from internetarchive) (2.0.7)\n",
            "Requirement already satisfied: importlib-metadata>=3.6.0 in /usr/local/lib/python3.10/dist-packages (from internetarchive) (7.1.0)\n",
            "Requirement already satisfied: zipp>=0.5 in /usr/local/lib/python3.10/dist-packages (from importlib-metadata>=3.6.0->internetarchive) (3.19.1)\n",
            "Collecting jsonpointer>=1.9 (from jsonpatch>=0.4->internetarchive)\n",
            "  Downloading jsonpointer-2.4-py2.py3-none-any.whl (7.8 kB)\n",
            "Requirement already satisfied: charset-normalizer<4,>=2 in /usr/local/lib/python3.10/dist-packages (from requests<3.0.0,>=2.25.0->internetarchive) (3.3.2)\n",
            "Requirement already satisfied: idna<4,>=2.5 in /usr/local/lib/python3.10/dist-packages (from requests<3.0.0,>=2.25.0->internetarchive) (3.7)\n",
            "Requirement already satisfied: certifi>=2017.4.17 in /usr/local/lib/python3.10/dist-packages (from requests<3.0.0,>=2.25.0->internetarchive) (2024.6.2)\n",
            "Building wheels for collected packages: docopt\n",
            "  Building wheel for docopt (setup.py) ... \u001b[?25l\u001b[?25hdone\n",
            "  Created wheel for docopt: filename=docopt-0.6.2-py2.py3-none-any.whl size=13706 sha256=1e185ade9302ef0bbcc2b84ac2a3eeedbf9e2660e875df57b0507ac55dcf4dec\n",
            "  Stored in directory: /root/.cache/pip/wheels/fc/ab/d4/5da2067ac95b36618c629a5f93f809425700506f72c9732fac\n",
            "Successfully built docopt\n",
            "Installing collected packages: schema, docopt, jsonpointer, jsonpatch, internetarchive\n",
            "Successfully installed docopt-0.6.2 internetarchive-4.1.0 jsonpatch-1.33 jsonpointer-2.4 schema-0.7.7\n"
          ]
        }
      ],
      "source": [
        "!pip install internetarchive"
      ]
    },
    {
      "cell_type": "code",
      "execution_count": 6,
      "metadata": {
        "colab": {
          "base_uri": "https://localhost:8080/"
        },
        "id": "GftLymawiGdi",
        "outputId": "854a3436-ffb0-4be0-b5f7-c4aaafdcf3c6"
      },
      "outputs": [
        {
          "output_type": "stream",
          "name": "stdout",
          "text": [
            "identifier : GPAK-0100-03-2\n",
            "None\n",
            "mediatype : image\n",
            "None\n",
            "collection : opensource_image\n",
            "None\n",
            "creator : Mehran DHN\n",
            "None\n",
            "date : 1870\n",
            "None\n",
            "description : <span style=\"font-size:19px;color:#000000;font-weight:normal;text-decoration:none;font-family:Arial;font-style:normal;\">مصلی دهخوارقان که از بناهای بسیار قدیم است</span>\n",
            "None\n",
            "language : per\n",
            "None\n",
            "licenseurl : https://creativecommons.org/publicdomain/mark/1.0/\n",
            "None\n",
            "photograph-unique-id : GPAK-0100-03-2\n",
            "None\n",
            "scanner : Internet Archive HTML5 Uploader 1.7.0\n",
            "None\n",
            "subject : ['Qajar dynasty', 'Golestan Palace Album Khaneh']\n",
            "None\n",
            "title : آلبوم خانه کاخ گلستان 100-3-2\n",
            "None\n",
            "uploader : Mehrandhn@gmail.com\n",
            "None\n",
            "publicdate : 2024-06-08 07:58:53\n",
            "None\n",
            "addeddate : 2024-06-08 07:58:53\n",
            "None\n",
            "curation : [curator]validator@archive.org[/curator][date]20240608080031[/date][comment]checked for malware[/comment]\n",
            "None\n",
            "genre : ['Early Photography of Iran ', 'Golestan Palace Album Khaneh ', 'GPAK-0100 ']\n",
            "None\n"
          ]
        }
      ],
      "source": [
        "from internetarchive import get_item\n",
        "\n",
        "item = get_item('GPAK-0100-03-2')\n",
        "\n",
        "for k,v in item.metadata.items():\n",
        "    print(print(k,\":\",v))"
      ]
    },
    {
      "cell_type": "code",
      "execution_count": 5,
      "metadata": {
        "id": "YT3vJrP6iZ65",
        "colab": {
          "base_uri": "https://localhost:8080/"
        },
        "outputId": "e623280c-d5e6-4c03-afcb-6892782bd90a"
      },
      "outputs": [
        {
          "output_type": "stream",
          "name": "stdout",
          "text": [
            "200\n"
          ]
        }
      ],
      "source": [
        "\n",
        "from internetarchive import get_item\n",
        "from internetarchive import (\n",
        "    modify_metadata\n",
        ")\n",
        "\n",
        "#md = {'collection': 'test_collection', 'title': 'My New Item', 'mediatype': 'movies'}\n",
        "#r = item.upload('<identifier>', files=['film.txt', 'film.mov'], metadata=md, access_key='YoUrAcCEssKey', secret_key='youRSECRETKEY')\n",
        "\n",
        "\n",
        "results = modify_metadata(\n",
        "    identifier=\"GPAK-0100-03-2\",\n",
        "    metadata={\"genre\": ['Early Photography of Iran ', 'Golestan Palace Album Khaneh ', 'GPAK-0100 ']}, access_key='MyVUZ9noL70B57Ep', secret_key='Lo9wnMViFNLA3EV0')\n",
        "\n",
        "print(results.status_code)\n"
      ]
    }
  ],
  "metadata": {
    "colab": {
      "provenance": [],
      "authorship_tag": "ABX9TyPMhERqXbJILdTzwbsSqlNJ",
      "include_colab_link": true
    },
    "kernelspec": {
      "display_name": "Python 3",
      "name": "python3"
    },
    "language_info": {
      "name": "python"
    }
  },
  "nbformat": 4,
  "nbformat_minor": 0
}